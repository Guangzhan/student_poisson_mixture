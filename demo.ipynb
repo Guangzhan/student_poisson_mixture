{
 "cells": [
  {
   "cell_type": "markdown",
   "metadata": {},
   "source": [
    "This is a quick tutorial that shows how to use the code `PoissonMixture`.\n",
    "\n",
    "July 2018<br>\n",
    "Jihyun Park<br>\n",
    "`jihyunp@ics.uci.edu`"
   ]
  },
  {
   "cell_type": "markdown",
   "metadata": {},
   "source": [
    "## Import packages"
   ]
  },
  {
   "cell_type": "code",
   "execution_count": 1,
   "metadata": {
    "collapsed": true
   },
   "outputs": [],
   "source": [
    "import numpy as np\n",
    "from pmm import PoissonMixture\n",
    "%matplotlib inline"
   ]
  },
  {
   "cell_type": "markdown",
   "metadata": {},
   "source": [
    "## Load sample data\n",
    "This data is simulated. Total 400 rows (students), where each row corresponds to a daily activity count vector for a student."
   ]
  },
  {
   "cell_type": "code",
   "execution_count": 2,
   "metadata": {
    "collapsed": false
   },
   "outputs": [],
   "source": [
    "data_file = './test_data.csv'\n",
    "X = np.loadtxt(data_file, dtype=np.int, delimiter=',')"
   ]
  },
  {
   "cell_type": "markdown",
   "metadata": {},
   "source": [
    "# Poisson mixture model\n",
    "### Create an object\n",
    "To fit a Poisson mixture model, first **create an object** of a class `PoissonMixture`.<br>\n",
    "Let's set `K=2` for two mixture components. <br> \n",
    "You can get more detailed information about each argument in the docstrings in `pmm.py`."
   ]
  },
  {
   "cell_type": "code",
   "execution_count": 3,
   "metadata": {
    "collapsed": true
   },
   "outputs": [],
   "source": [
    "poismix = PoissonMixture(K=2, max_iter=200, eps=0.0001, \n",
    "                         gamma_prior=True, g_a=1.1, g_b=0.1, verbose=1)"
   ]
  },
  {
   "cell_type": "markdown",
   "metadata": {},
   "source": [
    "### Fit the model with loaded data\n",
    "Now fit the model with the data `X`. <br>\n",
    "Setting `return_obj=True` will return a result object (`PoisMixRes`) that counts the number of students in each group and also plots the component means."
   ]
  },
  {
   "cell_type": "code",
   "execution_count": 4,
   "metadata": {
    "collapsed": false,
    "scrolled": true
   },
   "outputs": [
    {
     "name": "stdout",
     "output_type": "stream",
     "text": [
      "----- number of iterations: 0\n",
      "  loglik: -16906.223\n",
      "\n",
      "----- number of iterations: 5\n",
      "  loglik: -10881.536\n",
      "\n"
     ]
    }
   ],
   "source": [
    "res = poismix.fit(X, return_obj=True)"
   ]
  },
  {
   "cell_type": "markdown",
   "metadata": {},
   "source": [
    "## Result object: `PoisMixRes`\n",
    "Setting `return_obj=True` when running the `.fit()` function returns a result object (`PoisMixRes`).<br>\n",
    "All the results are stored in this object, including membership weights, lambdas (component means), mixture weights, and etc."
   ]
  },
  {
   "cell_type": "code",
   "execution_count": null,
   "metadata": {
    "collapsed": false
   },
   "outputs": [],
   "source": [
    "res.mw  # membership weights\n",
    "res.pi  # mixture weights\n",
    "res.loglik  # log likelihood\n",
    "res.lam  # component means"
   ]
  },
  {
   "cell_type": "markdown",
   "metadata": {},
   "source": [
    "### Print group counts when the hard group is assigned\n",
    "The group with highest membership weight is assigned (membrership weight=0.5 in two-group case). "
   ]
  },
  {
   "cell_type": "code",
   "execution_count": 6,
   "metadata": {
    "collapsed": false
   },
   "outputs": [
    {
     "data": {
      "text/plain": [
       "{0: 200, 1: 200}"
      ]
     },
     "execution_count": 6,
     "metadata": {},
     "output_type": "execute_result"
    }
   ],
   "source": [
    "res.group_counts"
   ]
  },
  {
   "cell_type": "markdown",
   "metadata": {},
   "source": [
    "### Print assignments when the hard group is assigned"
   ]
  },
  {
   "cell_type": "code",
   "execution_count": null,
   "metadata": {
    "collapsed": false,
    "scrolled": true
   },
   "outputs": [],
   "source": [
    "res.assignments"
   ]
  },
  {
   "cell_type": "markdown",
   "metadata": {},
   "source": [
    "### Plot lambda using the `res` object (of class `PoisMixRes`)"
   ]
  },
  {
   "cell_type": "code",
   "execution_count": null,
   "metadata": {
    "collapsed": false
   },
   "outputs": [],
   "source": [
    "res.plot_lambdas()"
   ]
  }
 ],
 "metadata": {
  "anaconda-cloud": {},
  "kernelspec": {
   "display_name": "Python [conda root]",
   "language": "python",
   "name": "conda-root-py"
  },
  "language_info": {
   "codemirror_mode": {
    "name": "ipython",
    "version": 2
   },
   "file_extension": ".py",
   "mimetype": "text/x-python",
   "name": "python",
   "nbconvert_exporter": "python",
   "pygments_lexer": "ipython2",
   "version": "2.7.12"
  }
 },
 "nbformat": 4,
 "nbformat_minor": 1
}
